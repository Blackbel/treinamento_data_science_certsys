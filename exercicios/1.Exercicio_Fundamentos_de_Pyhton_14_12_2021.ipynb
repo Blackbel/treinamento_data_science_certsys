{
 "cells": [
  {
   "cell_type": "markdown",
   "metadata": {},
   "source": [
    "**Autor** : Hader Azzini\n",
    "\n",
    "**e-mail**: hader.azzini@certsys.com.br"
   ]
  },
  {
   "cell_type": "markdown",
   "metadata": {},
   "source": [
    "#  <a name=\"resumo\"> RESUMO </a>"
   ]
  },
  {
   "cell_type": "markdown",
   "metadata": {},
   "source": [
    "Este exercício tem o objetivo de permitir a prática dos de regressão linear."
   ]
  },
  {
   "cell_type": "markdown",
   "metadata": {},
   "source": [
    "#  <a name=\"indice\">  Índice </a>"
   ]
  },
  {
   "cell_type": "markdown",
   "metadata": {
    "tags": [
     "indice"
    ]
   },
   "source": [
    "* [Resumo](#resumo)\n",
    "* [Índice](#indice)\n",
    "* [Questões](#secao_1)\n",
    "* [Resolução](#secao_2)\n",
    "* [Conclusão](#conclusao)"
   ]
  },
  {
   "cell_type": "markdown",
   "metadata": {},
   "source": [
    "#  <a name=\"secao_1\"> Questões </a>\n",
    "[Voltar ao índice](#indice)"
   ]
  },
  {
   "cell_type": "markdown",
   "metadata": {},
   "source": [
    "1. Instale a bilioteca [Yahoo finance](https://pypi.org/project/yfinance/) usando o comando **!pip install yfinance**.\n",
    "2. Importe o pacote *yfinance* usando o apelido yf.\n",
    "3. Crie um objeto *apple*, para a ação da Apple (ticker = \"AAPL\"), a partir da classe Ticker do yahoo finance. Use o código abaixo como exemplo:\n",
    "```python\n",
    "apple = yf.Ticker(ticker)\n",
    "```\n",
    "4. Use o atributo *info* da ação para verificar o dicionário com todas as informações que são retornadas para a ação.\n",
    "5. Obtenha o preço corrente usando o índice *currentPrice* no dicionário *info*.\n",
    "6. Obtenha a lista de preços correntes para as ações da Amazon, Disney e Coca-Cola: ['AMZN','DIS','KO']\n",
    "7. Ordene a lista do nome de ações partindo do preço menor para o maior.\n",
    "> dica!: https://stackoverflow.com/questions/6618515/sorting-list-based-on-values-from-another-list\n",
    "8. Obtenha o histórico de preços de Amazon, Disney e Coca-Cola no ano de 2021. Use como base o exemplo:\n",
    "```python\n",
    " data = yf.download(\"SPY AAPL\", start=\"2017-01-01\", end=\"2017-04-30\")\n",
    "```\n",
    "9. Calcule o preço médio para o Fechamento (Close) do pregão das três ações.\n"
   ]
  },
  {
   "cell_type": "markdown",
   "metadata": {},
   "source": [
    "### <span style=\"color:red\">**Atenção! Antes de ver a resolução tente fazer o exercício primeiro, consulte apenas para verificar se está correto.**</span>"
   ]
  },
  {
   "cell_type": "markdown",
   "metadata": {},
   "source": [
    "#  <a name=\"secao_2\"> Resolução</a>\n",
    "[Voltar ao índice](#indice)"
   ]
  },
  {
   "cell_type": "markdown",
   "metadata": {},
   "source": [
    "## 1. Instale a bilioteca [Yahoo finance](https://pypi.org/project/yfinance/) usando o comando **!pip install yfinance**."
   ]
  },
  {
   "cell_type": "code",
   "execution_count": 1,
   "metadata": {},
   "outputs": [
    {
     "name": "stdout",
     "output_type": "stream",
     "text": [
      "Collecting yfinance\n",
      "  Downloading yfinance-0.1.67-py2.py3-none-any.whl (25 kB)\n",
      "Requirement already satisfied: pandas>=0.24 in c:\\users\\hader.azzini\\anaconda3\\lib\\site-packages (from yfinance) (1.2.4)\n",
      "Requirement already satisfied: numpy>=1.15 in c:\\users\\hader.azzini\\anaconda3\\lib\\site-packages (from yfinance) (1.20.1)\n",
      "Requirement already satisfied: lxml>=4.5.1 in c:\\users\\hader.azzini\\anaconda3\\lib\\site-packages (from yfinance) (4.6.3)\n",
      "Requirement already satisfied: requests>=2.20 in c:\\users\\hader.azzini\\anaconda3\\lib\\site-packages (from yfinance) (2.25.1)\n",
      "Collecting multitasking>=0.0.7\n",
      "  Downloading multitasking-0.0.10.tar.gz (8.2 kB)\n",
      "Requirement already satisfied: python-dateutil>=2.7.3 in c:\\users\\hader.azzini\\anaconda3\\lib\\site-packages (from pandas>=0.24->yfinance) (2.8.1)\n",
      "Requirement already satisfied: pytz>=2017.3 in c:\\users\\hader.azzini\\anaconda3\\lib\\site-packages (from pandas>=0.24->yfinance) (2021.1)\n",
      "Requirement already satisfied: six>=1.5 in c:\\users\\hader.azzini\\anaconda3\\lib\\site-packages (from python-dateutil>=2.7.3->pandas>=0.24->yfinance) (1.15.0)\n",
      "Requirement already satisfied: urllib3<1.27,>=1.21.1 in c:\\users\\hader.azzini\\anaconda3\\lib\\site-packages (from requests>=2.20->yfinance) (1.26.4)\n",
      "Requirement already satisfied: chardet<5,>=3.0.2 in c:\\users\\hader.azzini\\anaconda3\\lib\\site-packages (from requests>=2.20->yfinance) (4.0.0)\n",
      "Requirement already satisfied: idna<3,>=2.5 in c:\\users\\hader.azzini\\anaconda3\\lib\\site-packages (from requests>=2.20->yfinance) (2.10)\n",
      "Requirement already satisfied: certifi>=2017.4.17 in c:\\users\\hader.azzini\\anaconda3\\lib\\site-packages (from requests>=2.20->yfinance) (2020.12.5)\n",
      "Building wheels for collected packages: multitasking\n",
      "  Building wheel for multitasking (setup.py): started\n",
      "  Building wheel for multitasking (setup.py): finished with status 'done'\n",
      "  Created wheel for multitasking: filename=multitasking-0.0.10-py3-none-any.whl size=8488 sha256=a4c1cf9ac907ac8b7ec966a32a6f642e62bb00f922ce2300c628b8805f618f32\n",
      "  Stored in directory: c:\\users\\hader.azzini\\appdata\\local\\pip\\cache\\wheels\\21\\c9\\66\\b41c847de65c7985db52ec21d59996841598b8b0e93f2b9500\n",
      "Successfully built multitasking\n",
      "Installing collected packages: multitasking, yfinance\n",
      "Successfully installed multitasking-0.0.10 yfinance-0.1.67\n"
     ]
    }
   ],
   "source": [
    "!pip install yfinance"
   ]
  },
  {
   "cell_type": "markdown",
   "metadata": {},
   "source": [
    "## 2. Importe o pacote yfinance usando o apelido yf."
   ]
  },
  {
   "cell_type": "code",
   "execution_count": 2,
   "metadata": {},
   "outputs": [],
   "source": [
    "import yfinance as yf"
   ]
  },
  {
   "cell_type": "markdown",
   "metadata": {},
   "source": [
    "## 3. Consulte o valor da ação da Apple (ticker = \"AAPL\"). "
   ]
  },
  {
   "cell_type": "code",
   "execution_count": 3,
   "metadata": {},
   "outputs": [],
   "source": [
    "ticker = \"AAPL\"\n",
    "apple = yf.Ticker(ticker)"
   ]
  },
  {
   "cell_type": "markdown",
   "metadata": {},
   "source": [
    "## 4. Use o atributo *info* para verificar o dicionário com todas as informações que são retornadas para a ação."
   ]
  },
  {
   "cell_type": "code",
   "execution_count": 4,
   "metadata": {},
   "outputs": [
    {
     "data": {
      "text/plain": [
       "{'zip': '95014',\n",
       " 'sector': 'Technology',\n",
       " 'fullTimeEmployees': 154000,\n",
       " 'longBusinessSummary': 'Apple Inc. designs, manufactures, and markets smartphones, personal computers, tablets, wearables, and accessories worldwide. It also sells various related services. In addition, the company offers iPhone, a line of smartphones; Mac, a line of personal computers; iPad, a line of multi-purpose tablets; AirPods Max, an over-ear wireless headphone; and wearables, home, and accessories comprising AirPods, Apple TV, Apple Watch, Beats products, HomePod, and iPod touch. Further, it provides AppleCare support services; cloud services store services; and operates various platforms, including the App Store that allow customers to discover and download applications and digital content, such as books, music, video, games, and podcasts. Additionally, the company offers various services, such as Apple Arcade, a game subscription service; Apple Music, which offers users a curated listening experience with on-demand radio stations; Apple News+, a subscription news and magazine service; Apple TV+, which offers exclusive original content; Apple Card, a co-branded credit card; and Apple Pay, a cashless payment service, as well as licenses its intellectual property. The company serves consumers, and small and mid-sized businesses; and the education, enterprise, and government markets. It distributes third-party applications for its products through the App Store. The company also sells its products through its retail and online stores, and direct sales force; and third-party cellular network carriers, wholesalers, retailers, and resellers. Apple Inc. was incorporated in 1977 and is headquartered in Cupertino, California.',\n",
       " 'city': 'Cupertino',\n",
       " 'phone': '408 996 1010',\n",
       " 'state': 'CA',\n",
       " 'country': 'United States',\n",
       " 'companyOfficers': [],\n",
       " 'website': 'https://www.apple.com',\n",
       " 'maxAge': 1,\n",
       " 'address1': 'One Apple Park Way',\n",
       " 'industry': 'Consumer Electronics',\n",
       " 'ebitdaMargins': 0.32867,\n",
       " 'profitMargins': 0.25882,\n",
       " 'grossMargins': 0.41779,\n",
       " 'operatingCashflow': 104037998592,\n",
       " 'revenueGrowth': 0.288,\n",
       " 'operatingMargins': 0.29782,\n",
       " 'ebitda': 120233000960,\n",
       " 'targetLowPrice': 128.01,\n",
       " 'recommendationKey': 'buy',\n",
       " 'grossProfits': 152836000000,\n",
       " 'freeCashflow': 73295003648,\n",
       " 'targetMedianPrice': 170,\n",
       " 'currentPrice': 172.305,\n",
       " 'earningsGrowth': 0.662,\n",
       " 'currentRatio': 1.075,\n",
       " 'returnOnAssets': 0.20179,\n",
       " 'numberOfAnalystOpinions': 42,\n",
       " 'targetMeanPrice': 172.55,\n",
       " 'debtToEquity': 216.392,\n",
       " 'returnOnEquity': 1.47443,\n",
       " 'targetHighPrice': 210,\n",
       " 'totalCash': 62639001600,\n",
       " 'totalDebt': 136521998336,\n",
       " 'totalRevenue': 365817004032,\n",
       " 'totalCashPerShare': 3.818,\n",
       " 'financialCurrency': 'USD',\n",
       " 'revenuePerShare': 21.904,\n",
       " 'quickRatio': 0.91,\n",
       " 'recommendationMean': 1.9,\n",
       " 'exchange': 'NMS',\n",
       " 'shortName': 'Apple Inc.',\n",
       " 'longName': 'Apple Inc.',\n",
       " 'exchangeTimezoneName': 'America/New_York',\n",
       " 'exchangeTimezoneShortName': 'EST',\n",
       " 'isEsgPopulated': False,\n",
       " 'gmtOffSetMilliseconds': '-18000000',\n",
       " 'quoteType': 'EQUITY',\n",
       " 'symbol': 'AAPL',\n",
       " 'messageBoardId': 'finmb_24937',\n",
       " 'market': 'us_market',\n",
       " 'annualHoldingsTurnover': None,\n",
       " 'enterpriseToRevenue': 8.084,\n",
       " 'beta3Year': None,\n",
       " 'enterpriseToEbitda': 24.595,\n",
       " '52WeekChange': 0.3742571,\n",
       " 'morningStarRiskRating': None,\n",
       " 'forwardEps': 6.15,\n",
       " 'revenueQuarterlyGrowth': None,\n",
       " 'sharesOutstanding': 16406400000,\n",
       " 'fundInceptionDate': None,\n",
       " 'annualReportExpenseRatio': None,\n",
       " 'totalAssets': None,\n",
       " 'bookValue': 3.841,\n",
       " 'sharesShort': 112598907,\n",
       " 'sharesPercentSharesOut': 0.0069,\n",
       " 'fundFamily': None,\n",
       " 'lastFiscalYearEnd': 1632528000,\n",
       " 'heldPercentInstitutions': 0.58814,\n",
       " 'netIncomeToCommon': 94679998464,\n",
       " 'trailingEps': 5.61,\n",
       " 'lastDividendValue': 0.22,\n",
       " 'SandP52WeekChange': 0.26372135,\n",
       " 'priceToBook': 44.85941,\n",
       " 'heldPercentInsiders': 0.00071000005,\n",
       " 'nextFiscalYearEnd': 1695600000,\n",
       " 'yield': None,\n",
       " 'mostRecentQuarter': 1632528000,\n",
       " 'shortRatio': 1.4,\n",
       " 'sharesShortPreviousMonthDate': 1635465600,\n",
       " 'floatShares': 16389334347,\n",
       " 'beta': 1.203116,\n",
       " 'enterpriseValue': 2957143179264,\n",
       " 'priceHint': 2,\n",
       " 'threeYearAverageReturn': None,\n",
       " 'lastSplitDate': 1598832000,\n",
       " 'lastSplitFactor': '4:1',\n",
       " 'legalType': None,\n",
       " 'lastDividendDate': 1636070400,\n",
       " 'morningStarOverallRating': None,\n",
       " 'earningsQuarterlyGrowth': 0.622,\n",
       " 'priceToSalesTrailing12Months': 7.727647,\n",
       " 'dateShortInterest': 1638230400,\n",
       " 'pegRatio': 1.95,\n",
       " 'ytdReturn': None,\n",
       " 'forwardPE': 28.01707,\n",
       " 'lastCapGain': None,\n",
       " 'shortPercentOfFloat': 0.0069,\n",
       " 'sharesShortPriorMonth': 100495541,\n",
       " 'impliedSharesOutstanding': None,\n",
       " 'category': None,\n",
       " 'fiveYearAverageReturn': None,\n",
       " 'previousClose': 175.74,\n",
       " 'regularMarketOpen': 175.25,\n",
       " 'twoHundredDayAverage': 140.44135,\n",
       " 'trailingAnnualDividendYield': 0.0048366906,\n",
       " 'payoutRatio': 0.1515,\n",
       " 'volume24Hr': None,\n",
       " 'regularMarketDayHigh': 177.725,\n",
       " 'navPrice': None,\n",
       " 'averageDailyVolume10Day': 130217090,\n",
       " 'regularMarketPreviousClose': 175.74,\n",
       " 'fiftyDayAverage': 153.7052,\n",
       " 'trailingAnnualDividendRate': 0.85,\n",
       " 'open': 175.25,\n",
       " 'toCurrency': None,\n",
       " 'averageVolume10days': 130217090,\n",
       " 'expireDate': None,\n",
       " 'algorithm': None,\n",
       " 'dividendRate': 0.88,\n",
       " 'exDividendDate': 1636070400,\n",
       " 'circulatingSupply': None,\n",
       " 'startDate': None,\n",
       " 'regularMarketDayLow': 172.21,\n",
       " 'currency': 'USD',\n",
       " 'trailingPE': 30.713902,\n",
       " 'regularMarketVolume': 66356228,\n",
       " 'lastMarket': None,\n",
       " 'maxSupply': None,\n",
       " 'openInterest': None,\n",
       " 'marketCap': 2826904535040,\n",
       " 'volumeAllCurrencies': None,\n",
       " 'strikePrice': None,\n",
       " 'averageVolume': 85804358,\n",
       " 'dayLow': 172.21,\n",
       " 'ask': 173.12,\n",
       " 'askSize': 800,\n",
       " 'volume': 66356228,\n",
       " 'fiftyTwoWeekHigh': 182.13,\n",
       " 'fromCurrency': None,\n",
       " 'fiveYearAvgDividendYield': 1.2,\n",
       " 'fiftyTwoWeekLow': 116.21,\n",
       " 'bid': 173.11,\n",
       " 'tradeable': False,\n",
       " 'dividendYield': 0.005,\n",
       " 'bidSize': 1100,\n",
       " 'dayHigh': 177.725,\n",
       " 'regularMarketPrice': 172.305,\n",
       " 'preMarketPrice': 175.34,\n",
       " 'logo_url': 'https://logo.clearbit.com/apple.com'}"
      ]
     },
     "execution_count": 4,
     "metadata": {},
     "output_type": "execute_result"
    }
   ],
   "source": [
    "apple.info"
   ]
  },
  {
   "cell_type": "markdown",
   "metadata": {},
   "source": [
    "## 5.Obtenha o preço corrente usando o índice currentPrice no dicionário info."
   ]
  },
  {
   "cell_type": "code",
   "execution_count": 7,
   "metadata": {},
   "outputs": [
    {
     "data": {
      "text/plain": [
       "172.305"
      ]
     },
     "execution_count": 7,
     "metadata": {},
     "output_type": "execute_result"
    }
   ],
   "source": [
    "apple.info['currentPrice']"
   ]
  },
  {
   "cell_type": "markdown",
   "metadata": {},
   "source": [
    "## 6. Obtenha a lista de preços correntes para as ações da Amazon, Disney e Coca-Cola: ['AMZN','DIS','KO']"
   ]
  },
  {
   "cell_type": "code",
   "execution_count": 9,
   "metadata": {},
   "outputs": [],
   "source": [
    "precos = []\n",
    "\n",
    "for ticker in ['AMZN','DIS','KO']:\n",
    "    acao = yf.Ticker(ticker)\n",
    "    precos.append(acao.info['currentPrice'])"
   ]
  },
  {
   "cell_type": "code",
   "execution_count": 10,
   "metadata": {},
   "outputs": [
    {
     "data": {
      "text/plain": [
       "[3336.38, 149.4601, 57.965]"
      ]
     },
     "execution_count": 10,
     "metadata": {},
     "output_type": "execute_result"
    }
   ],
   "source": [
    "precos"
   ]
  },
  {
   "cell_type": "markdown",
   "metadata": {},
   "source": [
    "## 7.Ordene a lista do nome de ações partindo do preço menor para o maior."
   ]
  },
  {
   "cell_type": "code",
   "execution_count": 11,
   "metadata": {},
   "outputs": [],
   "source": [
    "ordenado = [x for _, x in sorted(zip(precos,['AMZN','DIS','KO']))]"
   ]
  },
  {
   "cell_type": "code",
   "execution_count": 12,
   "metadata": {},
   "outputs": [
    {
     "data": {
      "text/plain": [
       "['KO', 'DIS', 'AMZN']"
      ]
     },
     "execution_count": 12,
     "metadata": {},
     "output_type": "execute_result"
    }
   ],
   "source": [
    "ordenado"
   ]
  },
  {
   "cell_type": "markdown",
   "metadata": {},
   "source": [
    "##  8.Obtenha o histórico de preços de Amazon, Disney e Coca-Cola no ano de 2021"
   ]
  },
  {
   "cell_type": "code",
   "execution_count": 14,
   "metadata": {},
   "outputs": [
    {
     "name": "stdout",
     "output_type": "stream",
     "text": [
      "[*********************100%***********************]  3 of 3 completed\n"
     ]
    }
   ],
   "source": [
    "data = yf.download(\"KO DIS AMZN\", start=\"2021-01-01\")"
   ]
  },
  {
   "cell_type": "code",
   "execution_count": 15,
   "metadata": {},
   "outputs": [
    {
     "data": {
      "text/html": [
       "<div>\n",
       "<style scoped>\n",
       "    .dataframe tbody tr th:only-of-type {\n",
       "        vertical-align: middle;\n",
       "    }\n",
       "\n",
       "    .dataframe tbody tr th {\n",
       "        vertical-align: top;\n",
       "    }\n",
       "\n",
       "    .dataframe thead tr th {\n",
       "        text-align: left;\n",
       "    }\n",
       "\n",
       "    .dataframe thead tr:last-of-type th {\n",
       "        text-align: right;\n",
       "    }\n",
       "</style>\n",
       "<table border=\"1\" class=\"dataframe\">\n",
       "  <thead>\n",
       "    <tr>\n",
       "      <th></th>\n",
       "      <th colspan=\"3\" halign=\"left\">Adj Close</th>\n",
       "      <th colspan=\"3\" halign=\"left\">Close</th>\n",
       "      <th colspan=\"3\" halign=\"left\">High</th>\n",
       "      <th colspan=\"3\" halign=\"left\">Low</th>\n",
       "      <th colspan=\"3\" halign=\"left\">Open</th>\n",
       "      <th colspan=\"3\" halign=\"left\">Volume</th>\n",
       "    </tr>\n",
       "    <tr>\n",
       "      <th></th>\n",
       "      <th>AMZN</th>\n",
       "      <th>DIS</th>\n",
       "      <th>KO</th>\n",
       "      <th>AMZN</th>\n",
       "      <th>DIS</th>\n",
       "      <th>KO</th>\n",
       "      <th>AMZN</th>\n",
       "      <th>DIS</th>\n",
       "      <th>KO</th>\n",
       "      <th>AMZN</th>\n",
       "      <th>DIS</th>\n",
       "      <th>KO</th>\n",
       "      <th>AMZN</th>\n",
       "      <th>DIS</th>\n",
       "      <th>KO</th>\n",
       "      <th>AMZN</th>\n",
       "      <th>DIS</th>\n",
       "      <th>KO</th>\n",
       "    </tr>\n",
       "    <tr>\n",
       "      <th>Date</th>\n",
       "      <th></th>\n",
       "      <th></th>\n",
       "      <th></th>\n",
       "      <th></th>\n",
       "      <th></th>\n",
       "      <th></th>\n",
       "      <th></th>\n",
       "      <th></th>\n",
       "      <th></th>\n",
       "      <th></th>\n",
       "      <th></th>\n",
       "      <th></th>\n",
       "      <th></th>\n",
       "      <th></th>\n",
       "      <th></th>\n",
       "      <th></th>\n",
       "      <th></th>\n",
       "      <th></th>\n",
       "    </tr>\n",
       "  </thead>\n",
       "  <tbody>\n",
       "    <tr>\n",
       "      <th>2021-01-04</th>\n",
       "      <td>3186.629883</td>\n",
       "      <td>177.679993</td>\n",
       "      <td>51.147511</td>\n",
       "      <td>3186.629883</td>\n",
       "      <td>177.679993</td>\n",
       "      <td>52.759998</td>\n",
       "      <td>3272.000000</td>\n",
       "      <td>182.589996</td>\n",
       "      <td>54.630001</td>\n",
       "      <td>3144.020020</td>\n",
       "      <td>174.729996</td>\n",
       "      <td>52.029999</td>\n",
       "      <td>3270.000000</td>\n",
       "      <td>182.259995</td>\n",
       "      <td>54.270000</td>\n",
       "      <td>4411400</td>\n",
       "      <td>13426600</td>\n",
       "      <td>25611100</td>\n",
       "    </tr>\n",
       "    <tr>\n",
       "      <th>2021-01-05</th>\n",
       "      <td>3218.510010</td>\n",
       "      <td>178.440002</td>\n",
       "      <td>50.585236</td>\n",
       "      <td>3218.510010</td>\n",
       "      <td>178.440002</td>\n",
       "      <td>52.180000</td>\n",
       "      <td>3223.379883</td>\n",
       "      <td>180.339996</td>\n",
       "      <td>52.619999</td>\n",
       "      <td>3165.060059</td>\n",
       "      <td>176.199997</td>\n",
       "      <td>52.029999</td>\n",
       "      <td>3166.010010</td>\n",
       "      <td>176.199997</td>\n",
       "      <td>52.330002</td>\n",
       "      <td>2655500</td>\n",
       "      <td>7771800</td>\n",
       "      <td>20323800</td>\n",
       "    </tr>\n",
       "    <tr>\n",
       "      <th>2021-01-06</th>\n",
       "      <td>3138.379883</td>\n",
       "      <td>179.119995</td>\n",
       "      <td>48.975975</td>\n",
       "      <td>3138.379883</td>\n",
       "      <td>179.119995</td>\n",
       "      <td>50.520000</td>\n",
       "      <td>3197.510010</td>\n",
       "      <td>181.610001</td>\n",
       "      <td>52.020000</td>\n",
       "      <td>3131.159912</td>\n",
       "      <td>177.279999</td>\n",
       "      <td>50.189999</td>\n",
       "      <td>3146.479980</td>\n",
       "      <td>178.320007</td>\n",
       "      <td>51.970001</td>\n",
       "      <td>4394800</td>\n",
       "      <td>7517800</td>\n",
       "      <td>38724500</td>\n",
       "    </tr>\n",
       "    <tr>\n",
       "      <th>2021-01-07</th>\n",
       "      <td>3162.159912</td>\n",
       "      <td>178.580002</td>\n",
       "      <td>48.433086</td>\n",
       "      <td>3162.159912</td>\n",
       "      <td>178.580002</td>\n",
       "      <td>49.959999</td>\n",
       "      <td>3208.540039</td>\n",
       "      <td>179.949997</td>\n",
       "      <td>50.259998</td>\n",
       "      <td>3155.000000</td>\n",
       "      <td>177.580002</td>\n",
       "      <td>49.520000</td>\n",
       "      <td>3157.000000</td>\n",
       "      <td>179.500000</td>\n",
       "      <td>50.090000</td>\n",
       "      <td>3514500</td>\n",
       "      <td>7300800</td>\n",
       "      <td>53225700</td>\n",
       "    </tr>\n",
       "    <tr>\n",
       "      <th>2021-01-08</th>\n",
       "      <td>3182.699951</td>\n",
       "      <td>178.690002</td>\n",
       "      <td>49.518860</td>\n",
       "      <td>3182.699951</td>\n",
       "      <td>178.690002</td>\n",
       "      <td>51.080002</td>\n",
       "      <td>3190.639893</td>\n",
       "      <td>180.020004</td>\n",
       "      <td>51.130001</td>\n",
       "      <td>3142.199951</td>\n",
       "      <td>176.600006</td>\n",
       "      <td>49.840000</td>\n",
       "      <td>3180.000000</td>\n",
       "      <td>178.809998</td>\n",
       "      <td>50.029999</td>\n",
       "      <td>3537700</td>\n",
       "      <td>7894500</td>\n",
       "      <td>29674000</td>\n",
       "    </tr>\n",
       "    <tr>\n",
       "      <th>...</th>\n",
       "      <td>...</td>\n",
       "      <td>...</td>\n",
       "      <td>...</td>\n",
       "      <td>...</td>\n",
       "      <td>...</td>\n",
       "      <td>...</td>\n",
       "      <td>...</td>\n",
       "      <td>...</td>\n",
       "      <td>...</td>\n",
       "      <td>...</td>\n",
       "      <td>...</td>\n",
       "      <td>...</td>\n",
       "      <td>...</td>\n",
       "      <td>...</td>\n",
       "      <td>...</td>\n",
       "      <td>...</td>\n",
       "      <td>...</td>\n",
       "      <td>...</td>\n",
       "    </tr>\n",
       "    <tr>\n",
       "      <th>2021-12-08</th>\n",
       "      <td>3523.159912</td>\n",
       "      <td>153.339996</td>\n",
       "      <td>55.000000</td>\n",
       "      <td>3523.159912</td>\n",
       "      <td>153.339996</td>\n",
       "      <td>55.000000</td>\n",
       "      <td>3543.600098</td>\n",
       "      <td>153.660004</td>\n",
       "      <td>55.349998</td>\n",
       "      <td>3495.010010</td>\n",
       "      <td>150.559998</td>\n",
       "      <td>54.360001</td>\n",
       "      <td>3523.010010</td>\n",
       "      <td>150.910004</td>\n",
       "      <td>55.119999</td>\n",
       "      <td>2262700</td>\n",
       "      <td>12886300</td>\n",
       "      <td>18026300</td>\n",
       "    </tr>\n",
       "    <tr>\n",
       "      <th>2021-12-09</th>\n",
       "      <td>3483.419922</td>\n",
       "      <td>152.940002</td>\n",
       "      <td>54.860001</td>\n",
       "      <td>3483.419922</td>\n",
       "      <td>152.940002</td>\n",
       "      <td>54.860001</td>\n",
       "      <td>3539.389893</td>\n",
       "      <td>154.289993</td>\n",
       "      <td>55.130001</td>\n",
       "      <td>3482.790039</td>\n",
       "      <td>151.699997</td>\n",
       "      <td>54.590000</td>\n",
       "      <td>3515.000000</td>\n",
       "      <td>152.270004</td>\n",
       "      <td>54.750000</td>\n",
       "      <td>2303100</td>\n",
       "      <td>11862300</td>\n",
       "      <td>13846400</td>\n",
       "    </tr>\n",
       "    <tr>\n",
       "      <th>2021-12-10</th>\n",
       "      <td>3444.239990</td>\n",
       "      <td>152.710007</td>\n",
       "      <td>56.279999</td>\n",
       "      <td>3444.239990</td>\n",
       "      <td>152.710007</td>\n",
       "      <td>56.279999</td>\n",
       "      <td>3518.540039</td>\n",
       "      <td>154.660004</td>\n",
       "      <td>56.320000</td>\n",
       "      <td>3410.000000</td>\n",
       "      <td>151.449997</td>\n",
       "      <td>55.070000</td>\n",
       "      <td>3508.340088</td>\n",
       "      <td>153.580002</td>\n",
       "      <td>55.250000</td>\n",
       "      <td>3031400</td>\n",
       "      <td>10242700</td>\n",
       "      <td>23151000</td>\n",
       "    </tr>\n",
       "    <tr>\n",
       "      <th>2021-12-13</th>\n",
       "      <td>3391.350098</td>\n",
       "      <td>150.429993</td>\n",
       "      <td>57.759998</td>\n",
       "      <td>3391.350098</td>\n",
       "      <td>150.429993</td>\n",
       "      <td>57.759998</td>\n",
       "      <td>3442.000000</td>\n",
       "      <td>152.500000</td>\n",
       "      <td>57.930000</td>\n",
       "      <td>3382.600098</td>\n",
       "      <td>149.289993</td>\n",
       "      <td>56.959999</td>\n",
       "      <td>3440.000000</td>\n",
       "      <td>152.119995</td>\n",
       "      <td>56.980000</td>\n",
       "      <td>3083500</td>\n",
       "      <td>10186100</td>\n",
       "      <td>31359200</td>\n",
       "    </tr>\n",
       "    <tr>\n",
       "      <th>2021-12-14</th>\n",
       "      <td>3335.530029</td>\n",
       "      <td>149.248703</td>\n",
       "      <td>57.865002</td>\n",
       "      <td>3335.530029</td>\n",
       "      <td>149.248703</td>\n",
       "      <td>57.865002</td>\n",
       "      <td>3377.659912</td>\n",
       "      <td>151.619995</td>\n",
       "      <td>58.169998</td>\n",
       "      <td>3329.010010</td>\n",
       "      <td>148.802002</td>\n",
       "      <td>57.455002</td>\n",
       "      <td>3351.000000</td>\n",
       "      <td>149.259995</td>\n",
       "      <td>57.400002</td>\n",
       "      <td>1442199</td>\n",
       "      <td>5648836</td>\n",
       "      <td>11144805</td>\n",
       "    </tr>\n",
       "  </tbody>\n",
       "</table>\n",
       "<p>240 rows × 18 columns</p>\n",
       "</div>"
      ],
      "text/plain": [
       "              Adj Close                               Close              \\\n",
       "                   AMZN         DIS         KO         AMZN         DIS   \n",
       "Date                                                                      \n",
       "2021-01-04  3186.629883  177.679993  51.147511  3186.629883  177.679993   \n",
       "2021-01-05  3218.510010  178.440002  50.585236  3218.510010  178.440002   \n",
       "2021-01-06  3138.379883  179.119995  48.975975  3138.379883  179.119995   \n",
       "2021-01-07  3162.159912  178.580002  48.433086  3162.159912  178.580002   \n",
       "2021-01-08  3182.699951  178.690002  49.518860  3182.699951  178.690002   \n",
       "...                 ...         ...        ...          ...         ...   \n",
       "2021-12-08  3523.159912  153.339996  55.000000  3523.159912  153.339996   \n",
       "2021-12-09  3483.419922  152.940002  54.860001  3483.419922  152.940002   \n",
       "2021-12-10  3444.239990  152.710007  56.279999  3444.239990  152.710007   \n",
       "2021-12-13  3391.350098  150.429993  57.759998  3391.350098  150.429993   \n",
       "2021-12-14  3335.530029  149.248703  57.865002  3335.530029  149.248703   \n",
       "\n",
       "                              High                                 Low  \\\n",
       "                   KO         AMZN         DIS         KO         AMZN   \n",
       "Date                                                                     \n",
       "2021-01-04  52.759998  3272.000000  182.589996  54.630001  3144.020020   \n",
       "2021-01-05  52.180000  3223.379883  180.339996  52.619999  3165.060059   \n",
       "2021-01-06  50.520000  3197.510010  181.610001  52.020000  3131.159912   \n",
       "2021-01-07  49.959999  3208.540039  179.949997  50.259998  3155.000000   \n",
       "2021-01-08  51.080002  3190.639893  180.020004  51.130001  3142.199951   \n",
       "...               ...          ...         ...        ...          ...   \n",
       "2021-12-08  55.000000  3543.600098  153.660004  55.349998  3495.010010   \n",
       "2021-12-09  54.860001  3539.389893  154.289993  55.130001  3482.790039   \n",
       "2021-12-10  56.279999  3518.540039  154.660004  56.320000  3410.000000   \n",
       "2021-12-13  57.759998  3442.000000  152.500000  57.930000  3382.600098   \n",
       "2021-12-14  57.865002  3377.659912  151.619995  58.169998  3329.010010   \n",
       "\n",
       "                                          Open                         \\\n",
       "                   DIS         KO         AMZN         DIS         KO   \n",
       "Date                                                                    \n",
       "2021-01-04  174.729996  52.029999  3270.000000  182.259995  54.270000   \n",
       "2021-01-05  176.199997  52.029999  3166.010010  176.199997  52.330002   \n",
       "2021-01-06  177.279999  50.189999  3146.479980  178.320007  51.970001   \n",
       "2021-01-07  177.580002  49.520000  3157.000000  179.500000  50.090000   \n",
       "2021-01-08  176.600006  49.840000  3180.000000  178.809998  50.029999   \n",
       "...                ...        ...          ...         ...        ...   \n",
       "2021-12-08  150.559998  54.360001  3523.010010  150.910004  55.119999   \n",
       "2021-12-09  151.699997  54.590000  3515.000000  152.270004  54.750000   \n",
       "2021-12-10  151.449997  55.070000  3508.340088  153.580002  55.250000   \n",
       "2021-12-13  149.289993  56.959999  3440.000000  152.119995  56.980000   \n",
       "2021-12-14  148.802002  57.455002  3351.000000  149.259995  57.400002   \n",
       "\n",
       "             Volume                      \n",
       "               AMZN       DIS        KO  \n",
       "Date                                     \n",
       "2021-01-04  4411400  13426600  25611100  \n",
       "2021-01-05  2655500   7771800  20323800  \n",
       "2021-01-06  4394800   7517800  38724500  \n",
       "2021-01-07  3514500   7300800  53225700  \n",
       "2021-01-08  3537700   7894500  29674000  \n",
       "...             ...       ...       ...  \n",
       "2021-12-08  2262700  12886300  18026300  \n",
       "2021-12-09  2303100  11862300  13846400  \n",
       "2021-12-10  3031400  10242700  23151000  \n",
       "2021-12-13  3083500  10186100  31359200  \n",
       "2021-12-14  1442199   5648836  11144805  \n",
       "\n",
       "[240 rows x 18 columns]"
      ]
     },
     "execution_count": 15,
     "metadata": {},
     "output_type": "execute_result"
    }
   ],
   "source": [
    "data"
   ]
  },
  {
   "cell_type": "markdown",
   "metadata": {},
   "source": [
    "## 9. Calcule o preço médio para o Fechamento (Close) do pregão das três ações"
   ]
  },
  {
   "cell_type": "code",
   "execution_count": 17,
   "metadata": {},
   "outputs": [
    {
     "data": {
      "text/html": [
       "<div>\n",
       "<style scoped>\n",
       "    .dataframe tbody tr th:only-of-type {\n",
       "        vertical-align: middle;\n",
       "    }\n",
       "\n",
       "    .dataframe tbody tr th {\n",
       "        vertical-align: top;\n",
       "    }\n",
       "\n",
       "    .dataframe thead th {\n",
       "        text-align: right;\n",
       "    }\n",
       "</style>\n",
       "<table border=\"1\" class=\"dataframe\">\n",
       "  <thead>\n",
       "    <tr style=\"text-align: right;\">\n",
       "      <th></th>\n",
       "      <th>AMZN</th>\n",
       "      <th>DIS</th>\n",
       "      <th>KO</th>\n",
       "    </tr>\n",
       "    <tr>\n",
       "      <th>Date</th>\n",
       "      <th></th>\n",
       "      <th></th>\n",
       "      <th></th>\n",
       "    </tr>\n",
       "  </thead>\n",
       "  <tbody>\n",
       "    <tr>\n",
       "      <th>2021-01-04</th>\n",
       "      <td>3186.629883</td>\n",
       "      <td>177.679993</td>\n",
       "      <td>52.759998</td>\n",
       "    </tr>\n",
       "    <tr>\n",
       "      <th>2021-01-05</th>\n",
       "      <td>3218.510010</td>\n",
       "      <td>178.440002</td>\n",
       "      <td>52.180000</td>\n",
       "    </tr>\n",
       "    <tr>\n",
       "      <th>2021-01-06</th>\n",
       "      <td>3138.379883</td>\n",
       "      <td>179.119995</td>\n",
       "      <td>50.520000</td>\n",
       "    </tr>\n",
       "    <tr>\n",
       "      <th>2021-01-07</th>\n",
       "      <td>3162.159912</td>\n",
       "      <td>178.580002</td>\n",
       "      <td>49.959999</td>\n",
       "    </tr>\n",
       "    <tr>\n",
       "      <th>2021-01-08</th>\n",
       "      <td>3182.699951</td>\n",
       "      <td>178.690002</td>\n",
       "      <td>51.080002</td>\n",
       "    </tr>\n",
       "    <tr>\n",
       "      <th>...</th>\n",
       "      <td>...</td>\n",
       "      <td>...</td>\n",
       "      <td>...</td>\n",
       "    </tr>\n",
       "    <tr>\n",
       "      <th>2021-12-08</th>\n",
       "      <td>3523.159912</td>\n",
       "      <td>153.339996</td>\n",
       "      <td>55.000000</td>\n",
       "    </tr>\n",
       "    <tr>\n",
       "      <th>2021-12-09</th>\n",
       "      <td>3483.419922</td>\n",
       "      <td>152.940002</td>\n",
       "      <td>54.860001</td>\n",
       "    </tr>\n",
       "    <tr>\n",
       "      <th>2021-12-10</th>\n",
       "      <td>3444.239990</td>\n",
       "      <td>152.710007</td>\n",
       "      <td>56.279999</td>\n",
       "    </tr>\n",
       "    <tr>\n",
       "      <th>2021-12-13</th>\n",
       "      <td>3391.350098</td>\n",
       "      <td>150.429993</td>\n",
       "      <td>57.759998</td>\n",
       "    </tr>\n",
       "    <tr>\n",
       "      <th>2021-12-14</th>\n",
       "      <td>3335.530029</td>\n",
       "      <td>149.248703</td>\n",
       "      <td>57.865002</td>\n",
       "    </tr>\n",
       "  </tbody>\n",
       "</table>\n",
       "<p>240 rows × 3 columns</p>\n",
       "</div>"
      ],
      "text/plain": [
       "                   AMZN         DIS         KO\n",
       "Date                                          \n",
       "2021-01-04  3186.629883  177.679993  52.759998\n",
       "2021-01-05  3218.510010  178.440002  52.180000\n",
       "2021-01-06  3138.379883  179.119995  50.520000\n",
       "2021-01-07  3162.159912  178.580002  49.959999\n",
       "2021-01-08  3182.699951  178.690002  51.080002\n",
       "...                 ...         ...        ...\n",
       "2021-12-08  3523.159912  153.339996  55.000000\n",
       "2021-12-09  3483.419922  152.940002  54.860001\n",
       "2021-12-10  3444.239990  152.710007  56.279999\n",
       "2021-12-13  3391.350098  150.429993  57.759998\n",
       "2021-12-14  3335.530029  149.248703  57.865002\n",
       "\n",
       "[240 rows x 3 columns]"
      ]
     },
     "execution_count": 17,
     "metadata": {},
     "output_type": "execute_result"
    }
   ],
   "source": [
    "data['Close']"
   ]
  },
  {
   "cell_type": "code",
   "execution_count": 18,
   "metadata": {},
   "outputs": [
    {
     "data": {
      "text/plain": [
       "AMZN    3341.142580\n",
       "DIS      177.078369\n",
       "KO        53.869479\n",
       "dtype: float64"
      ]
     },
     "execution_count": 18,
     "metadata": {},
     "output_type": "execute_result"
    }
   ],
   "source": [
    "data['Close'].mean()"
   ]
  },
  {
   "cell_type": "markdown",
   "metadata": {},
   "source": [
    "#  <a name=\"conclusao\"> Conclusão </a>\n",
    "[Voltar ao índice](#indice)"
   ]
  },
  {
   "cell_type": "markdown",
   "metadata": {},
   "source": [
    "Neste exercicio conseguimos usar o básico dos fundamentos de python"
   ]
  },
  {
   "cell_type": "code",
   "execution_count": null,
   "metadata": {},
   "outputs": [],
   "source": []
  }
 ],
 "metadata": {
  "hide_input": false,
  "kernelspec": {
   "display_name": "Python 3",
   "language": "python",
   "name": "python3"
  },
  "language_info": {
   "codemirror_mode": {
    "name": "ipython",
    "version": 3
   },
   "file_extension": ".py",
   "mimetype": "text/x-python",
   "name": "python",
   "nbconvert_exporter": "python",
   "pygments_lexer": "ipython3",
   "version": "3.8.8"
  },
  "toc": {
   "base_numbering": 1,
   "nav_menu": {
    "height": "294px",
    "width": "216px"
   },
   "number_sections": true,
   "sideBar": true,
   "skip_h1_title": false,
   "title_cell": "Table of Contents",
   "title_sidebar": "Contents",
   "toc_cell": false,
   "toc_position": {},
   "toc_section_display": true,
   "toc_window_display": false
  },
  "varInspector": {
   "cols": {
    "lenName": 16,
    "lenType": 16,
    "lenVar": 40
   },
   "kernels_config": {
    "python": {
     "delete_cmd_postfix": "",
     "delete_cmd_prefix": "del ",
     "library": "var_list.py",
     "varRefreshCmd": "print(var_dic_list())"
    },
    "r": {
     "delete_cmd_postfix": ") ",
     "delete_cmd_prefix": "rm(",
     "library": "var_list.r",
     "varRefreshCmd": "cat(var_dic_list()) "
    }
   },
   "types_to_exclude": [
    "module",
    "function",
    "builtin_function_or_method",
    "instance",
    "_Feature"
   ],
   "window_display": false
  }
 },
 "nbformat": 4,
 "nbformat_minor": 2
}
